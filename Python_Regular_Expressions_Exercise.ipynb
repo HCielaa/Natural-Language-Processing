{
  "nbformat": 4,
  "nbformat_minor": 0,
  "metadata": {
    "colab": {
      "provenance": []
    },
    "kernelspec": {
      "name": "python3",
      "display_name": "Python 3"
    },
    "language_info": {
      "name": "python"
    }
  },
  "cells": [
    {
      "cell_type": "markdown",
      "source": [
        "# **Exercise 1**"
      ],
      "metadata": {
        "id": "PyDIB-DYqOmI"
      }
    },
    {
      "cell_type": "markdown",
      "source": [
        "Consider the following sentence: \"The roots of education are bitter, but the fruit is sweet.\".\n",
        "\n",
        "Write a regular expression pattern to check whether the word ‘education’ is present in the given string or not. Use the re.search() function."
      ],
      "metadata": {
        "id": "Ieo7MwVPq2S1"
      }
    },
    {
      "cell_type": "code",
      "execution_count": null,
      "metadata": {
        "colab": {
          "base_uri": "https://localhost:8080/"
        },
        "id": "oifuRA5LqKC3",
        "outputId": "a5cbaff1-023b-4a28-e83b-05a538b1f39f"
      },
      "outputs": [
        {
          "output_type": "stream",
          "name": "stdout",
          "text": [
            "True\n"
          ]
        }
      ],
      "source": [
        "# import the regular expression module\n",
        "import re\n",
        "\n",
        "# input string on which to test regex pattern\n",
        "string = 'The roots of education are bitter, but the fruit is sweet.'\n",
        "\n",
        "# regex pattern to check if 'education' is present in a input string or not.\n",
        "pattern = 'education'\n",
        "\n",
        "# check whether pattern is present in string or not\n",
        "result = re.search(pattern, string)\n",
        "\n",
        "# evaluate result - don't change the following piece of code, it is used to evaluate your regex\n",
        "if result != None:\n",
        "    print(True)\n",
        "else:\n",
        "    print(False)"
      ]
    },
    {
      "cell_type": "markdown",
      "source": [
        "# **Exercise 2**"
      ],
      "metadata": {
        "id": "sKdvMcjeq5Z4"
      }
    },
    {
      "cell_type": "markdown",
      "source": [
        "Consider the same problem as the previous question.  Extract the word 'education' from the sentence  'The roots of education are bitter, but the fruit is sweet'. But this time, extract the starting and ending position of the result using result.start() and result.end()"
      ],
      "metadata": {
        "id": "fyYkby_Uq7KX"
      }
    },
    {
      "cell_type": "code",
      "source": [
        "# import the regular expression module\n",
        "import re\n",
        "\n",
        "# input string on which to test regex pattern\n",
        "string = 'The roots of education are bitter, but the fruit is sweet.'\n",
        "\n",
        "# regular expression pattern to check if 'education' is present in a given string or not.\n",
        "pattern = 'education'\n",
        "\n",
        "# store the match of regex\n",
        "result = re.search(pattern, string)\n",
        "\n",
        "# store the start of the match\n",
        "# use result.start()\n",
        "start_position = result.start()\n",
        "end_position=result.end()\n",
        "\n",
        "# evaluate result - don't change the following piece of code, it is used to evaluate your regex\n",
        "print(start_position)\n",
        "print(end_position)"
      ],
      "metadata": {
        "colab": {
          "base_uri": "https://localhost:8080/"
        },
        "id": "C6Ds3Ibaq9H2",
        "outputId": "f1b3f99c-fb64-41c7-d5a5-b69a13c39ad2"
      },
      "execution_count": null,
      "outputs": [
        {
          "output_type": "stream",
          "name": "stdout",
          "text": [
            "13\n",
            "22\n"
          ]
        }
      ]
    },
    {
      "cell_type": "markdown",
      "source": [
        "# **Exercise 3**"
      ],
      "metadata": {
        "id": "dMV8qMkNwzaX"
      }
    },
    {
      "cell_type": "markdown",
      "source": [
        "Write a regular expression that matches the word ‘tree’ or ‘trees’ in a given piece of text.\n",
        "\n",
        "Sample positive cases:\n",
        "‘The tree stands tall.’\n",
        "‘There are a lot of trees in the forest.’\n",
        "\n",
        "Negative negative cases:\n",
        "‘The boy is heading for the school.’\n",
        "'It's really hot outside!'"
      ],
      "metadata": {
        "id": "NvK0cvx0w1To"
      }
    },
    {
      "cell_type": "code",
      "source": [
        "import ast, sys\n",
        "string = input() # input string\n",
        "\n",
        "# import the regular expression module\n",
        "import re\n",
        "\n",
        "# regex pattern\n",
        "pattern = 'trees?'\n",
        "\n",
        "# check whether pattern is present in string or not\n",
        "result = re.search(pattern,string)  # pass the arguments to the re.search function\n",
        "\n",
        "# evaluate result - don't change the following piece of code, it is used to evaluate your regex\n",
        "if result != None:\n",
        "    print(True)\n",
        "else:\n",
        "    print(False)"
      ],
      "metadata": {
        "colab": {
          "base_uri": "https://localhost:8080/"
        },
        "id": "M6Yo5cjAw2Jz",
        "outputId": "294bea3c-ce70-44fb-94e4-adc039bd1393"
      },
      "execution_count": null,
      "outputs": [
        {
          "output_type": "stream",
          "name": "stdout",
          "text": [
            "there are a lot of trees\n",
            "True\n"
          ]
        }
      ]
    },
    {
      "cell_type": "markdown",
      "source": [
        "# **Exercise 4**"
      ],
      "metadata": {
        "id": "ZPsDQA4X0Kih"
      }
    },
    {
      "cell_type": "markdown",
      "source": [
        "Write a regular expression that matches the following words:\n",
        "xyz\n",
        "xy\n",
        "xz\n",
        "x\n",
        "\n",
        "Make sure that the regular expression doesn’t match the following words:\n",
        "Xyyz\n",
        "Xyzz\n",
        "Xyy\n",
        "Xzz\n",
        "Yz\n"
      ],
      "metadata": {
        "id": "Ev-wliCT0Lmf"
      }
    },
    {
      "cell_type": "code",
      "source": [
        "import re\n",
        "import ast, sys\n",
        "string = input()\n",
        "\n",
        "# regex pattern\n",
        "pattern = \"x(y)?(z)?\"\n",
        "\n",
        "# check whether pattern is present in string or not\n",
        "result = re.search(pattern, string)\n",
        "\n",
        "# evaluate result - don't change the following piece of code, it is used to evaluate your regex\n",
        "if result != None:\n",
        "    print(True)\n",
        "else:\n",
        "    print(False)"
      ],
      "metadata": {
        "colab": {
          "base_uri": "https://localhost:8080/"
        },
        "id": "kmOpyZf00Nb6",
        "outputId": "500bc99d-05cc-454e-838e-e7576c7b8dc0"
      },
      "execution_count": null,
      "outputs": [
        {
          "output_type": "stream",
          "name": "stdout",
          "text": [
            "Xyy\n",
            "False\n"
          ]
        }
      ]
    },
    {
      "cell_type": "markdown",
      "source": [
        "# **Exercise 5**"
      ],
      "metadata": {
        "id": "-FH6NxSs4W6-"
      }
    },
    {
      "cell_type": "markdown",
      "source": [
        "Match a binary number that starts with 101 and ends with zero or more number of zeroes.\n",
        "\n",
        "Sample positive cases (pattern should match all of these):\n",
        "1010\n",
        "10100\n",
        "101000\n",
        "101\n",
        "\n",
        "Sample negative cases (shouldn’t match any of these):\n",
        "10\n",
        "100\n",
        "1"
      ],
      "metadata": {
        "id": "iAckXmvt4YZR"
      }
    },
    {
      "cell_type": "code",
      "source": [
        "import re\n",
        "import ast, sys\n",
        "string = input()\n",
        "\n",
        "# regex pattern\n",
        "pattern = \"1010*\"\n",
        "\n",
        "# check whether pattern is present in string or not\n",
        "result = re.search(pattern, string)\n",
        "\n",
        "# evaluate result - don't change the following piece of code, it is used to evaluate your regex\n",
        "if result != None:\n",
        "    print(True)\n",
        "else:\n",
        "    print(False)"
      ],
      "metadata": {
        "colab": {
          "base_uri": "https://localhost:8080/"
        },
        "id": "siI-18NC4YBn",
        "outputId": "3c3ef9d9-62c6-4053-bc71-d6775b9f471f"
      },
      "execution_count": null,
      "outputs": [
        {
          "output_type": "stream",
          "name": "stdout",
          "text": [
            "10\n",
            "False\n"
          ]
        }
      ]
    },
    {
      "cell_type": "markdown",
      "source": [
        "# **Exercise 6**"
      ],
      "metadata": {
        "id": "Jcc1J56_484F"
      }
    },
    {
      "cell_type": "markdown",
      "source": [
        "Write a pattern that starts with 1 and ends with zero but has arbitrary number of 1s (zero or more) in between\n",
        "\n",
        "Sample positive cases (should match all of these):\n",
        "110\n",
        "11111110\n",
        "10\n",
        "\n",
        "Sample negative cases (shouldn't match any of these):\n",
        "11\n",
        "00\n",
        "1\n",
        "0"
      ],
      "metadata": {
        "id": "ivxtxxfy4_Oe"
      }
    },
    {
      "cell_type": "code",
      "source": [
        "import re\n",
        "import ast, sys\n",
        "string = input()\n",
        "\n",
        "# regex pattern\n",
        "pattern = \"11*0\"\n",
        "\n",
        "# check whether pattern is present in string or not\n",
        "result = re.search(pattern, string)\n",
        "\n",
        "# evaluate result - don't change the following piece of code, it is used to evaluate your regex\n",
        "if result != None:\n",
        "    print(True)\n",
        "else:\n",
        "    print(False)"
      ],
      "metadata": {
        "colab": {
          "base_uri": "https://localhost:8080/"
        },
        "id": "sE7DX99X4-hy",
        "outputId": "52300d5b-c664-44e2-eadf-b920bda00dec"
      },
      "execution_count": null,
      "outputs": [
        {
          "output_type": "stream",
          "name": "stdout",
          "text": [
            "0\n",
            "False\n"
          ]
        }
      ]
    },
    {
      "cell_type": "markdown",
      "source": [
        "# **Exercise 7**"
      ],
      "metadata": {
        "id": "jpr5Fczt7EvM"
      }
    },
    {
      "cell_type": "markdown",
      "source": [
        "Krishna had said in the video that the pattern ‘ab+’ will not match the string ‘ac’. Try it for yourself by running the following piece of code and see if the re.search() function finds a match or not.\n",
        "\n",
        "You can also play around with the '+' quantifier by using it to match different types of strings. Finally, reset the code before submitting."
      ],
      "metadata": {
        "id": "e5BOj_017GCX"
      }
    },
    {
      "cell_type": "code",
      "source": [
        "import re\n",
        "\n",
        "# input string\n",
        "string = \"ac\"\n",
        "\n",
        "# regex pattern\n",
        "pattern = \"ab+\"\n",
        "\n",
        "# check whether pattern is present in string or not\n",
        "result = re.search(pattern, string)\n",
        "\n",
        "# print result\n",
        "if result != None:\n",
        "    print(True)\n",
        "else:\n",
        "    print(False)"
      ],
      "metadata": {
        "colab": {
          "base_uri": "https://localhost:8080/"
        },
        "id": "lfQw2znq7Hd0",
        "outputId": "eec2a143-2be4-47f8-f87f-3fc82a9ac6b2"
      },
      "execution_count": null,
      "outputs": [
        {
          "output_type": "stream",
          "name": "stdout",
          "text": [
            "False\n"
          ]
        }
      ]
    },
    {
      "cell_type": "markdown",
      "source": [
        "# **Exercise 8**"
      ],
      "metadata": {
        "id": "Y7-lpxww7Y7D"
      }
    },
    {
      "cell_type": "markdown",
      "source": [
        "Write a pattern that matches numbers that are powers of 10.\n",
        "\n",
        "Sample positive matches (should match all of the following):\n",
        "10\n",
        "100\n",
        "1000\n",
        "\n",
        "Sample negative matches (shouldn't match either of these):\n",
        "0\n",
        "1\n",
        "15"
      ],
      "metadata": {
        "id": "5-u5ZUpN7aBl"
      }
    },
    {
      "cell_type": "code",
      "source": [
        "import re\n",
        "import ast, sys\n",
        "string = input()\n",
        "\n",
        "# regex pattern\n",
        "pattern = \"10+\"\n",
        "\n",
        "# check whether pattern is present in string or not\n",
        "result = re.search(pattern,string) # pass the parameters to check if pattern is present in the string or not\n",
        "\n",
        "# evaluate result - don't change the following piece of code, it is used to evaluate your regex\n",
        "if result != None:\n",
        "    print(True)\n",
        "else:\n",
        "    print(False)"
      ],
      "metadata": {
        "colab": {
          "base_uri": "https://localhost:8080/"
        },
        "id": "TgStL1X37bkZ",
        "outputId": "f5cfcca8-e791-4d50-b868-9f5bb3aa5ec1"
      },
      "execution_count": null,
      "outputs": [
        {
          "output_type": "stream",
          "name": "stdout",
          "text": [
            "15\n",
            "False\n"
          ]
        }
      ]
    },
    {
      "cell_type": "code",
      "source": [
        "import re\n",
        "import ast, sys\n",
        "string = input()\n",
        "\n",
        "# regex pattern\n",
        "pattern = \"hur{2,5}ay\"\n",
        "\n",
        "# check whether pattern is present in string or not\n",
        "result = re.search(pattern, string)\n",
        "\n",
        "# evaluate result - don't change the following piece of code, it is used to evaluate your regex\n",
        "if result != None:\n",
        "    print(True)\n",
        "else:\n",
        "    print(False)"
      ],
      "metadata": {
        "colab": {
          "base_uri": "https://localhost:8080/"
        },
        "id": "3qj-CsYRBBt7",
        "outputId": "58c03e8d-5fd7-45c4-91ce-7dd32bb24f57"
      },
      "execution_count": null,
      "outputs": [
        {
          "output_type": "stream",
          "name": "stdout",
          "text": [
            "hurray\n",
            "True\n"
          ]
        }
      ]
    },
    {
      "cell_type": "markdown",
      "source": [
        "# **Exercise 10**"
      ],
      "metadata": {
        "id": "p0CBG83G4flo"
      }
    },
    {
      "cell_type": "markdown",
      "source": [
        "Write a regular expression which matches variants of the word ‘awesome’ where there are more than two ‘e’s at the end of the word.\n",
        "\n",
        "The following strings should match:\n",
        "Awesomeee\n",
        "awesomeeee\n",
        "\n",
        "The following strings shouldn’t match:\n",
        "Awesom\n",
        "Awesome\n",
        "Awesomee"
      ],
      "metadata": {
        "id": "qd5l-KWj4hZb"
      }
    },
    {
      "cell_type": "code",
      "source": [
        "import re\n",
        "import ast, sys\n",
        "string = input()\n",
        "# regex pattern\n",
        "pattern = \"Awesome{,2}\"\n",
        "\n",
        "# check whether pattern is present in string or not\n",
        "result = re.search(pattern, string)\n",
        "\n",
        "# evaluate result - don't change the following piece of code, it is used to evaluate your regex\n",
        "if result != None:\n",
        "    print(True)\n",
        "else:\n",
        "    print(False)"
      ],
      "metadata": {
        "colab": {
          "base_uri": "https://localhost:8080/"
        },
        "id": "JlNzhYiX4ipq",
        "outputId": "b27233c8-6205-4d7a-aac6-0deda6bd4a20"
      },
      "execution_count": null,
      "outputs": [
        {
          "output_type": "stream",
          "name": "stdout",
          "text": [
            "Awesomee\n",
            "True\n"
          ]
        }
      ]
    },
    {
      "cell_type": "markdown",
      "source": [
        "# **Exercise 11**"
      ],
      "metadata": {
        "id": "TQxWRIbR5jgl"
      }
    },
    {
      "cell_type": "markdown",
      "source": [
        "Write a regular expression that matches the a string where ‘a’ is followed by ‘b’ a maximum of three times."
      ],
      "metadata": {
        "id": "p1ZYyc7T5hNm"
      }
    },
    {
      "cell_type": "code",
      "source": [
        "import re\n",
        "import ast, sys\n",
        "string = input()\n",
        "\n",
        "# regex pattern\n",
        "pattern = \"ab{,3}\"\n",
        "\n",
        "# check whether pattern is present in string or not\n",
        "result = re.search(pattern, string)\n",
        "\n",
        "# evaluate result - don't change the following piece of code, it is used to evaluate your regex\n",
        "if result != None:\n",
        "    print(True)\n",
        "else:\n",
        "    print(False)"
      ],
      "metadata": {
        "colab": {
          "base_uri": "https://localhost:8080/"
        },
        "id": "zrYJb_7t5mDO",
        "outputId": "e06673cf-c13f-40cb-c6f8-6b3912191edd"
      },
      "execution_count": null,
      "outputs": [
        {
          "output_type": "stream",
          "name": "stdout",
          "text": [
            "abbbb\n",
            "True\n"
          ]
        }
      ]
    },
    {
      "cell_type": "markdown",
      "source": [
        "# **Exercise 12**"
      ],
      "metadata": {
        "id": "ehKVQY6q6qwd"
      }
    },
    {
      "cell_type": "markdown",
      "source": [
        "Write a regular expression to match a term that has three or more ‘0’s followed by one or more ‘1’s\n",
        "\n",
        "Sample positive matches (should match all of these):\n",
        "0001\n",
        "000001111\n",
        "000011\n",
        "\n",
        "Negative positive matches (shouldn't match either of these):\n",
        "00111\n",
        "000\n",
        "00\n",
        "111"
      ],
      "metadata": {
        "id": "DjcvVQTH6sgg"
      }
    },
    {
      "cell_type": "code",
      "source": [
        "import re\n",
        "import ast, sys\n",
        "string = input()\n",
        "\n",
        "# regex pattern\n",
        "pattern =\"0{3,}1{1,}\"\n",
        "\n",
        "# check whether pattern is present in string or not\n",
        "result = re.search(pattern, string)\n",
        "\n",
        "# evaluate result - don't change the following piece of code, it is used to evaluate your regex\n",
        "if result != None:\n",
        "    print(True)\n",
        "else:\n",
        "    print(False)"
      ],
      "metadata": {
        "colab": {
          "base_uri": "https://localhost:8080/"
        },
        "id": "sy85I1Lb6sRH",
        "outputId": "2b00a209-8b4a-4c61-af5d-2a30087bf7ae"
      },
      "execution_count": null,
      "outputs": [
        {
          "output_type": "stream",
          "name": "stdout",
          "text": [
            "0001\n",
            "True\n"
          ]
        }
      ]
    },
    {
      "cell_type": "markdown",
      "source": [
        "Exercise 13"
      ],
      "metadata": {
        "id": "JrstfDxR-QiH"
      }
    },
    {
      "cell_type": "markdown",
      "source": [
        "Write a regular expression which matches a string where '23' occurs one or more times followed by occurrence of '78' one or more times\n",
        "\n",
        "Sample positive matches (should match all of these):\n",
        "2378\n",
        "23237878\n",
        "232323237878\n",
        "\n",
        "Sample negative matches (shouldn't match either of these):\n",
        "23\n",
        "78\n",
        "23378\n",
        "223378\n",
        "22337788"
      ],
      "metadata": {
        "id": "yW3P7Z_a-Rnt"
      }
    },
    {
      "cell_type": "code",
      "source": [
        "import re\n",
        "import ast, sys\n",
        "string = input()\n",
        "\n",
        "# regex pattern\n",
        "pattern = \"2378*\"\n",
        "\n",
        "# check whether pattern is present in string or not\n",
        "result = re.search(pattern, string)\n",
        "\n",
        "# evaluate result - don't change the following piece of code, it is used to evaluate your regex\n",
        "if result != None:\n",
        "    print(True)\n",
        "else:\n",
        "    print(False)"
      ],
      "metadata": {
        "colab": {
          "base_uri": "https://localhost:8080/"
        },
        "id": "8HF-amkc-SKm",
        "outputId": "dbdf96f3-8167-4249-b7aa-6eee591caf88"
      },
      "execution_count": null,
      "outputs": [
        {
          "output_type": "stream",
          "name": "stdout",
          "text": [
            "23378\n",
            "False\n"
          ]
        }
      ]
    },
    {
      "cell_type": "markdown",
      "source": [
        "# **Exercie 14**"
      ],
      "metadata": {
        "id": "nRT60fAUHUJL"
      }
    },
    {
      "cell_type": "markdown",
      "source": [
        "Write a regular expression that returns True when passed a multiplication equation. For any other equation, it should return False. In other words, it should return True if there an asterisk - ‘*’ - present in the equation.\n",
        "\n",
        "Sample positive cases (should match all of these):\n",
        "3a*4b\n",
        "3*2\n",
        "4*5*6=120\n",
        "\n",
        "Sample negative cases (shouldn't match either of these):\n",
        "5+3=8\n",
        "3%2=1"
      ],
      "metadata": {
        "id": "abqXb9gOHVgi"
      }
    },
    {
      "cell_type": "code",
      "source": [
        "import re\n",
        "import ast, sys\n",
        "string = input()\n",
        "\n",
        "# regex pattern\n",
        "pattern = \"\\*\"\n",
        "\n",
        "# check whether pattern is present in string or not\n",
        "result = re.search(pattern, string)\n",
        "\n",
        "# evaluate result - don't change the following piece of code, it is used to evaluate your regex\n",
        "if result != None:\n",
        "    print(True)\n",
        "else:\n",
        "    print(False)\n"
      ],
      "metadata": {
        "colab": {
          "base_uri": "https://localhost:8080/"
        },
        "id": "DaKPQe-OHWwv",
        "outputId": "7c50bcad-68cf-4517-b583-0aad7cadf3c2"
      },
      "execution_count": null,
      "outputs": [
        {
          "output_type": "stream",
          "name": "stdout",
          "text": [
            "3*4=12\n",
            "True\n"
          ]
        }
      ]
    },
    {
      "cell_type": "markdown",
      "source": [
        "# **Exercise 15**"
      ],
      "metadata": {
        "id": "z6U1TeAcMoWP"
      }
    },
    {
      "cell_type": "markdown",
      "source": [
        "Write a pattern which matches a word that ends with ‘ing’. Words such as ‘playing’, ‘growing’, ‘raining’, etc. should match while words that don’t have ‘ing’ at the end shouldn’t match."
      ],
      "metadata": {
        "id": "imgvzkVAMpX3"
      }
    },
    {
      "cell_type": "code",
      "source": [
        "import re\n",
        "import ast, sys\n",
        "string = input()\n",
        "\n",
        "# regex pattern\n",
        "pattern = \"(ing)$\"\n",
        "\n",
        "# check whether pattern is present in string or not\n",
        "result = re.search(pattern,string)  # pass parameters to the re.search() function\n",
        "\n",
        "# evaluate result - don't change the following piece of code, it is used to evaluate your regex\n",
        "if result != None:\n",
        "    print(True)\n",
        "else:\n",
        "    print(False)"
      ],
      "metadata": {
        "colab": {
          "base_uri": "https://localhost:8080/"
        },
        "id": "3zkSOJINMr1p",
        "outputId": "9427a030-a2b2-4b66-d129-89a305f6c628"
      },
      "execution_count": null,
      "outputs": [
        {
          "output_type": "stream",
          "name": "stdout",
          "text": [
            "playing\n",
            "True\n"
          ]
        }
      ]
    },
    {
      "cell_type": "markdown",
      "source": [
        "# **Exercise 16**"
      ],
      "metadata": {
        "id": "X-0ZN2tnNPCu"
      }
    },
    {
      "cell_type": "markdown",
      "source": [
        "Write a regular expression that matches any string that starts with one or more ‘1’s, followed by three or more ‘0’s, followed by any number of ones (zero or more), followed by ‘0’s (from one to seven), and then ends with either two or three ‘1’s."
      ],
      "metadata": {
        "id": "TyHEwtKqNRPr"
      }
    },
    {
      "cell_type": "code",
      "source": [
        "import re\n",
        "import ast, sys\n",
        "string = input()\n",
        "\n",
        "# regex pattern\n",
        "pattern = \"^1{1,}0{3,}1*0{1,7}1{2,3}$\"\n",
        "\n",
        "# check whether pattern is present in string or not\n",
        "result = re.search(pattern, string)\n",
        "\n",
        "# evaluate result - don't change the following piece of code, it is used to evaluate your regex\n",
        "if result != None:\n",
        "    print(True)\n",
        "else:\n",
        "    print(False)"
      ],
      "metadata": {
        "colab": {
          "base_uri": "https://localhost:8080/"
        },
        "id": "amymUV4oNQ4U",
        "outputId": "821f4ae7-c629-4b2c-8580-c7d76b66b0b5"
      },
      "execution_count": null,
      "outputs": [
        {
          "output_type": "stream",
          "name": "stdout",
          "text": [
            "00001100011111\n",
            "False\n"
          ]
        }
      ]
    },
    {
      "cell_type": "markdown",
      "source": [
        "# **Wildcard Character (.)**"
      ],
      "metadata": {
        "id": "3Bn4DCikXXPv"
      }
    },
    {
      "cell_type": "code",
      "source": [
        "import re\n",
        "import ast, sys\n",
        "string = input()\n",
        "\n",
        "# regex pattern\n",
        "pattern = \".\"\n",
        "\n",
        "# check whether pattern is present in string or not\n",
        "result = re.search(pattern, string)\n",
        "\n",
        "# evaluate result - don't change the following piece of code, it is used to evaluate your regex\n",
        "if result != None:\n",
        "    print(True)\n",
        "else:\n",
        "    print(False)"
      ],
      "metadata": {
        "colab": {
          "base_uri": "https://localhost:8080/"
        },
        "id": "jqrgZ2IIXRuc",
        "outputId": "5a83af2c-111a-4d3a-f139-c03f29fe3191"
      },
      "execution_count": null,
      "outputs": [
        {
          "output_type": "stream",
          "name": "stdout",
          "text": [
            "abcsfhfoijf\n",
            "True\n"
          ]
        }
      ]
    },
    {
      "cell_type": "markdown",
      "source": [
        "# **The 're.sub' function**\n",
        "Description\n",
        "Write a regular expression such that it replaces the first letter of any given string with ‘$’.\n",
        "\n",
        "For example, the string ‘Building careers of tomorrow’ should be replaced by “$uilding careers of tomorrow”."
      ],
      "metadata": {
        "id": "JRd9sUf6IGWv"
      }
    },
    {
      "cell_type": "code",
      "source": [
        "import re\n",
        "import ast, sys\n",
        "string = input()\n",
        "\n",
        "# regex pattern\n",
        "pattern = \"^[A-Z]\"\n",
        "\n",
        "# replacement string\n",
        "replacement = \"$\"\n",
        "\n",
        "# check whether pattern is present in string or not\n",
        "result = re.sub(pattern,replacement,string)  # pass the parameters to the sub function\n",
        "\n",
        "# evaluate result - don't change the following piece of code, it is used to evaluate your regex\n",
        "print(result[0] == '$')"
      ],
      "metadata": {
        "colab": {
          "base_uri": "https://localhost:8080/"
        },
        "id": "kIRk1p3_IH8d",
        "outputId": "645ab5f2-6787-4697-8f8f-27b9e2d3f9f5"
      },
      "execution_count": null,
      "outputs": [
        {
          "output_type": "stream",
          "name": "stdout",
          "text": [
            "Harpreet\n",
            "True\n"
          ]
        }
      ]
    },
    {
      "cell_type": "markdown",
      "source": [
        "# **The 're.finditer()' function**\n",
        "Description\n",
        "Write a regular expression to extract all the words from a given sentence. Then use the re.finditer() function and store all the matched words that are of length more than or equal to 5 letters in a separate list called result.\n",
        "\n",
        "Sample input:\n",
        "\"Do not compare apples with oranges. Compare apples with apples\""
      ],
      "metadata": {
        "id": "qGSxx9HqMzJx"
      }
    },
    {
      "cell_type": "code",
      "source": [
        "import re\n",
        "import ast, sys\n",
        "string = input()\n",
        "\n",
        "# regex pattern\n",
        "pattern = \"\\w+\"\n",
        "\n",
        "# store results in the list 'result'\n",
        "result = []\n",
        "\n",
        "# iterate over the matches\n",
        "for match in re.finditer(pattern,string): # replace the ___ with the 'finditer' function to extract 'pattern' from the 'string'\n",
        "    if len(match.group()) >= 5:\n",
        "        result.append(match)\n",
        "    else:\n",
        "        continue\n",
        "\n",
        "# evaluate result - don't change the following piece of code, it is used to evaluate your regex\n",
        "print(len(result))"
      ],
      "metadata": {
        "colab": {
          "base_uri": "https://localhost:8080/"
        },
        "id": "4Tau_GeDMj-s",
        "outputId": "83ad5de6-84a7-4186-bb47-fd910eeff904"
      },
      "execution_count": null,
      "outputs": [
        {
          "output_type": "stream",
          "name": "stdout",
          "text": [
            "Do not compare apples with oranges. Compare apples with apples\n",
            "6\n"
          ]
        }
      ]
    },
    {
      "cell_type": "markdown",
      "source": [
        "# **The 're.findall()' function**\n",
        "Description\n",
        "Write a regular expression to extract all the words that have the suffix ‘ing’ using the re.findall() function. Store the matches in the variable ‘results’ and print its length.\n",
        "\n",
        "Sample input:\n",
        "\"Playing outdoor games when its raining outside is always fun!\""
      ],
      "metadata": {
        "id": "n--BYZ7UNyZ2"
      }
    },
    {
      "cell_type": "code",
      "source": [
        "import re\n",
        "import ast, sys\n",
        "string = input()\n",
        "\n",
        "# regex pattern\n",
        "pattern = \"\\w+ing\"\n",
        "\n",
        "# store results in the list 'result'\n",
        "result = re.findall(pattern,string)\n",
        "\n",
        "# evaluate result - don't change the following piece of code, it is used to evaluate your regex\n",
        "print(len(result))"
      ],
      "metadata": {
        "colab": {
          "base_uri": "https://localhost:8080/"
        },
        "id": "-u1OH1EmN01r",
        "outputId": "67ec2b13-5bd9-4847-de8d-b30497b57bee"
      },
      "execution_count": null,
      "outputs": [
        {
          "output_type": "stream",
          "name": "stdout",
          "text": [
            "Playing outdoor games when its raining outside is always fun!\n",
            "2\n"
          ]
        }
      ]
    },
    {
      "cell_type": "markdown",
      "source": [
        "# **Regular Expressions- Grouping**\n",
        "\n",
        "Write a regular expression to extract the domain name from an email address. The format of the email is simple - the part before the ‘@’ symbol contains alphabets, numbers and underscores. The part after the ‘@’ symbol contains only alphabets followed by a dot followed by ‘com’"
      ],
      "metadata": {
        "id": "2ZAqFXmmUlX5"
      }
    },
    {
      "cell_type": "code",
      "source": [
        "import re\n",
        "import ast, sys\n",
        "string = input()\n",
        "\n",
        "# regex pattern\n",
        "pattern = \"(\\w+)@(\\w+.\\w+)\"\n",
        "\n",
        "# write regex to extract email and use groups to extract domain name ofthe mail\n",
        "\n",
        "# store result\n",
        "result = re.search(pattern, string)\n",
        "\n",
        "# Access the second group (domain)\n",
        "if result:\n",
        "    domain = result.group(2)\n",
        "    print(domain)\n",
        "else:\n",
        "    print(\"No match found.\")"
      ],
      "metadata": {
        "colab": {
          "base_uri": "https://localhost:8080/"
        },
        "id": "ujXK3XezUsOZ",
        "outputId": "b1b675e9-0ae4-43d1-dfd0-2541e1907f59"
      },
      "execution_count": null,
      "outputs": [
        {
          "output_type": "stream",
          "name": "stdout",
          "text": [
            "karanpelia25@gmail.com\n",
            "gmail.com\n"
          ]
        }
      ]
    }
  ]
}