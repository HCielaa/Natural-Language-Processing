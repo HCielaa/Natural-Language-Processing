{
  "cells": [
    {
      "cell_type": "markdown",
      "metadata": {
        "id": "x4hZFwWJkLXa"
      },
      "source": [
        "# Tokenisation\n",
        "\n",
        "The notebook contains three types of tokenisation techniques:\n",
        "1. Word tokenisation\n",
        "2. Sentence tokenisation\n",
        "3. Tweet tokenisation\n",
        "4. Custom tokenisation using regular expressions"
      ]
    },
    {
      "cell_type": "markdown",
      "metadata": {
        "id": "IOS2jdPikLXe"
      },
      "source": [
        "### 1. Word tokenisation"
      ]
    },
    {
      "cell_type": "code",
      "execution_count": null,
      "metadata": {
        "id": "S2eBuK4hkLXf",
        "outputId": "2197fcae-a5c8-447d-ec06-45899eecff60"
      },
      "outputs": [
        {
          "name": "stdout",
          "output_type": "stream",
          "text": [
            "At nine o'clock I visited him myself. It looks like religious mania, and he'll soon think that he himself is God.\n"
          ]
        }
      ],
      "source": [
        "document = \"At nine o'clock I visited him myself. It looks like religious mania, and he'll soon think that he himself is God.\"\n",
        "print(document)"
      ]
    },
    {
      "cell_type": "markdown",
      "metadata": {
        "id": "K2gVPJBCkLXi"
      },
      "source": [
        "Tokenising on spaces using python"
      ]
    },
    {
      "cell_type": "code",
      "execution_count": null,
      "metadata": {
        "id": "Urc90DIUkLXi",
        "outputId": "50d16f50-f313-4269-c636-b6200a2edb96"
      },
      "outputs": [
        {
          "name": "stdout",
          "output_type": "stream",
          "text": [
            "['At', 'nine', \"o'clock\", 'I', 'visited', 'him', 'myself.', 'It', 'looks', 'like', 'religious', 'mania,', 'and', \"he'll\", 'soon', 'think', 'that', 'he', 'himself', 'is', 'God.']\n"
          ]
        }
      ],
      "source": [
        "print(document.split())"
      ]
    },
    {
      "cell_type": "markdown",
      "metadata": {
        "id": "XjsPn8uCkLXi"
      },
      "source": [
        "Tokenising using nltk word tokeniser"
      ]
    },
    {
      "cell_type": "code",
      "execution_count": null,
      "metadata": {
        "collapsed": true,
        "id": "28Mwlg3IkLXi"
      },
      "outputs": [],
      "source": [
        "from nltk.tokenize import word_tokenize\n",
        "words = word_tokenize(document)"
      ]
    },
    {
      "cell_type": "code",
      "execution_count": null,
      "metadata": {
        "id": "6RbegKBnkLXj",
        "outputId": "c1ed402f-11c8-4304-c6bd-b8b4a30de914"
      },
      "outputs": [
        {
          "name": "stdout",
          "output_type": "stream",
          "text": [
            "['At', 'nine', \"o'clock\", 'I', 'visited', 'him', 'myself', '.', 'It', 'looks', 'like', 'religious', 'mania', ',', 'and', 'he', \"'ll\", 'soon', 'think', 'that', 'he', 'himself', 'is', 'God', '.']\n"
          ]
        }
      ],
      "source": [
        "print(words)"
      ]
    },
    {
      "cell_type": "markdown",
      "metadata": {
        "id": "Dlsm6TejkLXj"
      },
      "source": [
        "NLTK's word tokeniser not only breaks on whitespaces but also breaks contraction words such as he'll into \"he\" and \"'ll\". On the other hand it doesn't break \"o'clock\" and treats it as a separate token."
      ]
    },
    {
      "cell_type": "markdown",
      "metadata": {
        "id": "ze7QCEm3kLXj"
      },
      "source": [
        "### 2. Sentence tokeniser"
      ]
    },
    {
      "cell_type": "markdown",
      "metadata": {
        "id": "O8ohxkfpkLXk"
      },
      "source": [
        "Tokenising based on sentence requires you to split on the period ('.'). Let's use nltk sentence tokeniser."
      ]
    },
    {
      "cell_type": "code",
      "execution_count": null,
      "metadata": {
        "collapsed": true,
        "id": "2UMXEs2TkLXk"
      },
      "outputs": [],
      "source": [
        "from nltk.tokenize import sent_tokenize\n",
        "sentences = sent_tokenize(document)"
      ]
    },
    {
      "cell_type": "code",
      "execution_count": null,
      "metadata": {
        "id": "sRgHUCYkkLXk",
        "outputId": "136be9e5-0a37-45bb-f182-3ffe1864ba91"
      },
      "outputs": [
        {
          "name": "stdout",
          "output_type": "stream",
          "text": [
            "[\"At nine o'clock I visited him myself.\", \"It looks like religious mania, and he'll soon think that he himself is God.\"]\n"
          ]
        }
      ],
      "source": [
        "print(sentences)"
      ]
    },
    {
      "cell_type": "markdown",
      "metadata": {
        "id": "JUNFK4cEkLXl"
      },
      "source": [
        "### 3. Tweet tokeniser"
      ]
    },
    {
      "cell_type": "markdown",
      "metadata": {
        "id": "jswaYQ_-kLXl"
      },
      "source": [
        "A problem with word tokeniser is that it fails to tokeniser emojis and other complex special characters such as word with hashtags. Emojis are common these days and people use them all the time."
      ]
    },
    {
      "cell_type": "code",
      "execution_count": null,
      "metadata": {
        "collapsed": true,
        "id": "c6FLOCwkkLXl"
      },
      "outputs": [],
      "source": [
        "message = \"i recently watched this show called mindhunters:). i totally loved it 😍. it was gr8 <3. #bingewatching #nothingtodo 😎\""
      ]
    },
    {
      "cell_type": "code",
      "execution_count": null,
      "metadata": {
        "scrolled": true,
        "id": "GCgrcbiTkLXl",
        "outputId": "2dba9bcd-40ca-4376-d1fc-d77a19605802"
      },
      "outputs": [
        {
          "name": "stdout",
          "output_type": "stream",
          "text": [
            "['i', 'recently', 'watched', 'this', 'show', 'called', 'mindhunters', ':', ')', '.', 'i', 'totally', 'loved', 'it', '😍', '.', 'it', 'was', 'gr8', '<', '3', '.', '#', 'bingewatching', '#', 'nothingtodo', '😎']\n"
          ]
        }
      ],
      "source": [
        "print(word_tokenize(message))"
      ]
    },
    {
      "cell_type": "markdown",
      "metadata": {
        "id": "UXFm9wbCkLXl"
      },
      "source": [
        "The word tokeniser breaks the emoji '<3' into '<' and '3' which is something that we don't want. Emojis have their own significance in areas like sentiment analysis where a happy face and sad face can salone prove to be a really good predictor of the sentiment. Similarly, the hashtags are broken into two tokens. A hashtag is used for searching specific topics or photos in social media apps such as Instagram and facebook. So there, you want to use the hashtag as is.\n",
        "\n",
        "Let's use the tweet tokeniser of nltk to tokenise this message."
      ]
    },
    {
      "cell_type": "code",
      "execution_count": null,
      "metadata": {
        "collapsed": true,
        "id": "9KFhDs36kLXm"
      },
      "outputs": [],
      "source": [
        "from nltk.tokenize import TweetTokenizer\n",
        "tknzr = TweetTokenizer()"
      ]
    },
    {
      "cell_type": "code",
      "execution_count": null,
      "metadata": {
        "id": "pZT3jksakLXm",
        "outputId": "d6dd5994-8ec1-4e4c-839b-b4578057a5ec"
      },
      "outputs": [
        {
          "data": {
            "text/plain": [
              "['i',\n",
              " 'recently',\n",
              " 'watched',\n",
              " 'this',\n",
              " 'show',\n",
              " 'called',\n",
              " 'mindhunters',\n",
              " ':)',\n",
              " '.',\n",
              " 'i',\n",
              " 'totally',\n",
              " 'loved',\n",
              " 'it',\n",
              " '😍',\n",
              " '.',\n",
              " 'it',\n",
              " 'was',\n",
              " 'gr8',\n",
              " '<3',\n",
              " '.',\n",
              " '#bingewatching',\n",
              " '#nothingtodo',\n",
              " '😎']"
            ]
          },
          "execution_count": 10,
          "metadata": {},
          "output_type": "execute_result"
        }
      ],
      "source": [
        "tknzr.tokenize(message)"
      ]
    },
    {
      "cell_type": "markdown",
      "metadata": {
        "id": "cWi1duQikLXm"
      },
      "source": [
        "As you can see, it handles all the emojis and the hashtags pretty well.\n",
        "\n",
        "Now, there is a tokeniser that takes a regular expression and tokenises and returns result based on the pattern of regular expression.\n",
        "\n",
        "Let's look at how you can use regular expression tokeniser."
      ]
    },
    {
      "cell_type": "code",
      "execution_count": null,
      "metadata": {
        "collapsed": true,
        "id": "zNHeyo5UkLXm"
      },
      "outputs": [],
      "source": [
        "from nltk.tokenize import regexp_tokenize\n",
        "message = \"i recently watched this show called mindhunters:). i totally loved it 😍. it was gr8 <3. #bingewatching #nothingtodo 😎\"\n",
        "pattern = \"#[\\w]+\""
      ]
    },
    {
      "cell_type": "code",
      "execution_count": null,
      "metadata": {
        "id": "Y0YUI8XHkLXn",
        "outputId": "5127e406-9154-4d19-a073-5d62ef6744e3"
      },
      "outputs": [
        {
          "data": {
            "text/plain": [
              "['#bingewatching', '#nothingtodo']"
            ]
          },
          "execution_count": 12,
          "metadata": {},
          "output_type": "execute_result"
        }
      ],
      "source": [
        "regexp_tokenize(message, pattern)"
      ]
    },
    {
      "cell_type": "code",
      "source": [
        "import nltk\n",
        "nltk.download('punkt')\n",
        "nltk.download('stopwords')\n",
        "from nltk.tokenize import word_tokenize\n",
        "from nltk.corpus import stopwords\n",
        "import ast, sys\n",
        "\n",
        "sentence = input()\n",
        "\n",
        "# change sentence to lowercase\n",
        "sentence = sentence.lower()\n",
        "\n",
        "# tokenise sentence into words\n",
        "words = word_tokenize(sentence)\n",
        "\n",
        "# extract nltk stop word list\n",
        "stopwords = stopwords.words('english')\n",
        "\n",
        "# remove stop words\n",
        "no_stops = [word for word in words if word not in stopwords]\n",
        "\n",
        "# print length - don't change the following piece of code\n",
        "print(len(no_stops))\n",
        "print(no_stops)"
      ],
      "metadata": {
        "colab": {
          "base_uri": "https://localhost:8080/"
        },
        "id": "oCh4x1nSmMP6",
        "outputId": "ef7ab056-4704-4ee9-b285-85466830a50b"
      },
      "execution_count": null,
      "outputs": [
        {
          "output_type": "stream",
          "name": "stderr",
          "text": [
            "[nltk_data] Downloading package punkt to /root/nltk_data...\n",
            "[nltk_data]   Package punkt is already up-to-date!\n",
            "[nltk_data] Downloading package stopwords to /root/nltk_data...\n",
            "[nltk_data]   Package stopwords is already up-to-date!\n"
          ]
        },
        {
          "output_type": "stream",
          "name": "stdout",
          "text": [
            "nltk.download('punkt')\n",
            "5\n",
            "['nltk.download', '(', \"'punkt\", \"'\", ')']\n"
          ]
        }
      ]
    }
  ],
  "metadata": {
    "kernelspec": {
      "display_name": "Python 3",
      "language": "python",
      "name": "python3"
    },
    "language_info": {
      "codemirror_mode": {
        "name": "ipython",
        "version": 3
      },
      "file_extension": ".py",
      "mimetype": "text/x-python",
      "name": "python",
      "nbconvert_exporter": "python",
      "pygments_lexer": "ipython3",
      "version": "3.6.5"
    },
    "colab": {
      "provenance": []
    }
  },
  "nbformat": 4,
  "nbformat_minor": 0
}